{
 "cells": [
  {
   "cell_type": "markdown",
   "metadata": {},
   "source": [
    "## Ein kurzes Tutorial zu Jupyter und Python\n",
    "\n",
    "Alles lebt in sogenannten \"Zellen\". Es gibt vor allem 2 wichtige Typen, Code (Y) und Markdown/Text (M). Mit den Kürzeln in den Klammern kann man den Typen der Zelle ändern. \n",
    "\n",
    "Damit der Inhalt der Zelle einen Effekt hat, kann man mit (Shift+Enter) oder (Ctrl+Enter) die Zelle ausführen.\n",
    "\n",
    "Mit einem Doppelklick kann man den Inhalt der Zelle ändern."
   ]
  },
  {
   "cell_type": "markdown",
   "metadata": {},
   "source": [
    "---\n",
    "\n",
    "## Hier die wichtigsten Markdown Tricks\n",
    "\n",
    "(doppelt hier rein klicken, um sich die Befehle anzugucken)\n",
    "\n",
    "**fett gedruckt**\n",
    "\n",
    "*kursiv gedruckt*\n",
    "\n",
    "- Stichpunkt 1\n",
    "- Stichpunkt 2\n",
    "\n",
    "1. Stichpunkt\n",
    "2. Stickpunkt\n",
    "\n",
    "# Riesen Überschrift\n",
    "## Grosse Überschrift\n",
    "### Mittelgrosse Überschrift\n",
    "\n",
    "\n",
    "[Link](https://www.markdownguide.org/cheat-sheet/)"
   ]
  },
  {
   "cell_type": "markdown",
   "metadata": {},
   "source": [
    "---\n",
    "\n",
    "\n",
    "## Python Basics\n",
    "\n",
    "Ganz wichtig: **Einrücken!!**\n",
    "\n"
   ]
  },
  {
   "cell_type": "markdown",
   "metadata": {},
   "source": [
    "## Datentypen"
   ]
  },
  {
   "cell_type": "code",
   "execution_count": null,
   "metadata": {
    "collapsed": false,
    "jupyter": {
     "outputs_hidden": false
    }
   },
   "outputs": [],
   "source": [
    "counter = 100          # An integer assignment\n",
    "miles   = 1000.0       # A floating point\n",
    "name    = \"John\"       # A string\n",
    "\n",
    "list = [ 'abcd', 786 , 2.23, 'john', 70.2 ]\n",
    "tinylist = [123, 'john']\n",
    "\n",
    "print(\"list = \",list)            # Prints complete list\n",
    "print(list[0])         # Prints first element of the list\n",
    "print(list[1:3])       # Prints elements starting from 2nd till 3rd \n",
    "print(list[2:])        # Prints elements starting from 3rd element\n",
    "print(list + tinylist) # Prints concatenated lists"
   ]
  },
  {
   "cell_type": "markdown",
   "metadata": {},
   "source": [
    "## Einfache Operationen"
   ]
  },
  {
   "cell_type": "code",
   "execution_count": null,
   "metadata": {
    "collapsed": false,
    "jupyter": {
     "outputs_hidden": false
    }
   },
   "outputs": [],
   "source": [
    "a = 3\n",
    "print(a+2)\n",
    "print(a-2)\n",
    "\n",
    "print(a*2)\n",
    "print(a/2)\n",
    "\n",
    "print(a**2) "
   ]
  },
  {
   "cell_type": "markdown",
   "metadata": {},
   "source": [
    "### Wahrheitswerte, if-Bedingungen und Ausgaben"
   ]
  },
  {
   "cell_type": "code",
   "execution_count": null,
   "metadata": {
    "collapsed": false,
    "jupyter": {
     "outputs_hidden": false
    }
   },
   "outputs": [],
   "source": [
    "a = False\n",
    "\n",
    "if a is True:\n",
    "    print(\"Wahr\")\n",
    "else:\n",
    "    print(\"Falsch\")"
   ]
  },
  {
   "cell_type": "code",
   "execution_count": null,
   "metadata": {
    "collapsed": false,
    "jupyter": {
     "outputs_hidden": false
    }
   },
   "outputs": [],
   "source": [
    "test_me = 1\n",
    "\n",
    "if test_me == 0:\n",
    "    print(\"Wert ist 0\")\n",
    "elif test_me > 0:\n",
    "    print(\"Positiv\")\n",
    "else:\n",
    "    print(\"Negativ\")"
   ]
  },
  {
   "cell_type": "markdown",
   "metadata": {},
   "source": [
    "Alle Stichworte in Abfragen:\n",
    "\n",
    "- and\n",
    "- or\n",
    "- is not\n",
    "- is\n",
    "- \\>\n",
    "- \\>=\n",
    "- \\==\n",
    "- \\<=\n",
    "- \\<\n",
    "- != oder \\<>"
   ]
  },
  {
   "cell_type": "markdown",
   "metadata": {},
   "source": [
    "## For-Schleifen\n",
    "\n",
    "Führe eine Rechnung für alle Werte aus, die in der for-Schleife angegeben sind.\n"
   ]
  },
  {
   "cell_type": "code",
   "execution_count": null,
   "metadata": {},
   "outputs": [],
   "source": [
    "for i in range(10):\n",
    "    k = i**2 # hier wird i^2 berechnet. Das Ergebnis wird in k gespeichert und anschließend ausgegeben\n",
    "    print(k)"
   ]
  },
  {
   "cell_type": "markdown",
   "metadata": {},
   "source": [
    "## While-Schleifen\n",
    "\n",
    "Führe eine Rechnung so lange aus, bis ein Abbruchkriterium erfüllt ist. "
   ]
  },
  {
   "cell_type": "code",
   "execution_count": null,
   "metadata": {
    "collapsed": false,
    "jupyter": {
     "outputs_hidden": false
    },
    "scrolled": true
   },
   "outputs": [],
   "source": [
    "x = 64\n",
    "\n",
    "while x/2 >= 1:\n",
    "    print(x)\n",
    "    # Hier wird der Wert der Variablen x durch 2 geteilt. \n",
    "    # Das Ergebnis wird in der Variable x gespeichert\n",
    "    x /= 2 \n",
    "\n",
    "print(\"\")"
   ]
  },
  {
   "cell_type": "markdown",
   "metadata": {},
   "source": [
    "## Pakete importieren\n",
    "\n",
    "Alles, was über die einfachen Funktionen hinaus geht, ist in Paketen installiert. Diese müssen vor der Benutzung importiert werden.\n",
    "\n",
    "Dabei gibt es zwei verschiedene import Möglichkeiten: mit alias oder ohne. Der alias verkürzt einfach nur die Schreibweise im Code.\n"
   ]
  },
  {
   "cell_type": "code",
   "execution_count": null,
   "metadata": {
    "collapsed": false,
    "jupyter": {
     "outputs_hidden": false
    },
    "scrolled": true
   },
   "outputs": [],
   "source": [
    "# Paket numpy wird importiert und unter dem alias np gespeichert\n",
    "import numpy as np\n"
   ]
  },
  {
   "cell_type": "markdown",
   "metadata": {},
   "source": [
    "## Plots\n",
    "\n",
    "Mit der `matplotlib` können Visualisierungen vorgenommen werden."
   ]
  },
  {
   "cell_type": "code",
   "execution_count": null,
   "metadata": {
    "collapsed": false,
    "jupyter": {
     "outputs_hidden": false
    }
   },
   "outputs": [],
   "source": [
    "import matplotlib.pyplot as plt\n",
    "\n",
    "x = np.arange(10, step=0.1)\n",
    "y = np.sin(x)\n",
    "\n",
    "# Erstelle neuen Plot\n",
    "plt.figure(figsize=(10,10))\n",
    "plt.title(\"Example Plot\")\n",
    "plt.xlabel(\"x\")\n",
    "plt.ylabel(\"sin(x)\")\n",
    "plt.plot(x,y)\n",
    "plt.show()\n"
   ]
  },
  {
   "cell_type": "markdown",
   "metadata": {},
   "source": [
    "## Arrays\n",
    "\n",
    "Oft arbeitet man mit NumPy Arrays. Diese kann man sich in etwa vorstellen, wie Vektoren."
   ]
  },
  {
   "cell_type": "code",
   "execution_count": null,
   "metadata": {
    "collapsed": false,
    "jupyter": {
     "outputs_hidden": false
    }
   },
   "outputs": [],
   "source": [
    "import numpy as np\n",
    "\n",
    "ones = np.ones((3,3))\n",
    "print(ones))"
   ]
  },
  {
   "cell_type": "code",
   "execution_count": null,
   "metadata": {
    "collapsed": false,
    "jupyter": {
     "outputs_hidden": false
    }
   },
   "outputs": [],
   "source": [
    "twos = np.ones((3,3)) * 2\n",
    "print(ones + twos)  "
   ]
  },
  {
   "cell_type": "code",
   "execution_count": null,
   "metadata": {
    "collapsed": false,
    "jupyter": {
     "outputs_hidden": false
    }
   },
   "outputs": [],
   "source": [
    "# Erzeuge eine Liste mit Einträgen von 0 bis 10\n",
    "b = np.arange(10)\n",
    "print('b = ', b)"
   ]
  },
  {
   "cell_type": "code",
   "execution_count": null,
   "metadata": {
    "collapsed": false,
    "jupyter": {
     "outputs_hidden": false
    }
   },
   "outputs": [],
   "source": [
    "# Überschreibe den dritten Eintrag der arrays b mit dem Wert 1234\n",
    "b[3] = 1234\n",
    "print('b = ', b)"
   ]
  },
  {
   "cell_type": "code",
   "execution_count": null,
   "metadata": {
    "collapsed": false,
    "jupyter": {
     "outputs_hidden": false
    }
   },
   "outputs": [],
   "source": [
    "test_array0 = np.zeros((3,3))\n",
    "test_array1 = np.zeros((3,3))\n",
    "\n",
    "for i in range(3):\n",
    "    test_array1[:,i] = i\n",
    "    test_array0[i,:] = i\n",
    "\n",
    "print(test_array0,'\\n')   # Das '\\n' erzeugt eine leere Zeile in der Ausgabe\n",
    "print(test_array1)"
   ]
  },
  {
   "cell_type": "markdown",
   "metadata": {},
   "source": [
    "## Hilfe - Dokumentation\n",
    "\n",
    "Wenn ihr die Funktionsweise eines genauen Befehls wissen wollt, könnt ihr mit `help(BEFEHL)` die Dokumentation aufrufen.\n"
   ]
  },
  {
   "cell_type": "code",
   "execution_count": null,
   "metadata": {
    "collapsed": false,
    "jupyter": {
     "outputs_hidden": false
    }
   },
   "outputs": [],
   "source": [
    "import numpy as np\n",
    "\n",
    "help(np.ones)"
   ]
  }
 ],
 "metadata": {
  "kernelspec": {
   "display_name": "Python 3 (ipykernel)",
   "language": "python",
   "name": "python3"
  },
  "language_info": {
   "codemirror_mode": {
    "name": "ipython",
    "version": 3
   },
   "file_extension": ".py",
   "mimetype": "text/x-python",
   "name": "python",
   "nbconvert_exporter": "python",
   "pygments_lexer": "ipython3",
   "version": "3.10.4"
  }
 },
 "nbformat": 4,
 "nbformat_minor": 4
}
