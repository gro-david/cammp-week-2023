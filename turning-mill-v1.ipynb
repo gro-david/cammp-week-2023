{
 "cells": [
  {
   "cell_type": "code",
   "execution_count": 67,
   "metadata": {},
   "outputs": [],
   "source": [
    "from matplotlib import pyplot as plt\n",
    "import numpy as np\n",
    "import matplotlib.colors as colors"
   ]
  },
  {
   "cell_type": "code",
   "execution_count": 31,
   "metadata": {},
   "outputs": [],
   "source": [
    "# 2/3D vec,tor classes with basic operations\n",
    "class Vector2:\n",
    "    def __init__(self, x, y):\n",
    "        self.x = x\n",
    "        self.y = y\n",
    "\n",
    "    def __add__(self, other):\n",
    "        return Vector2(self.x + other.x, self.y + other.y)\n",
    "    \n",
    "    def __sub__(self, other):\n",
    "        return Vector2(self.x - other.x, self.y - other.y)\n",
    "    \n",
    "    def __mul__(self, other: float):\n",
    "        return Vector2(self.x * other, self.y * other)\n",
    "    \n",
    "    def __truediv__(self, other: float):\n",
    "        return Vector2(self.x / other, self.y / other)\n",
    "class Vector3:\n",
    "    def __init__(self, x, y, z):\n",
    "        self.x = x\n",
    "        self.y = y\n",
    "        self.z = z\n",
    "\n",
    "    def __add__(self, other):\n",
    "        return Vector3(self.x + other.x, self.y + other.y, self.z + other.z)\n",
    "    \n",
    "    def __sub__(self, other):\n",
    "        return Vector3(self.x - other.x, self.y - other.y, self.z - other.z)\n",
    "    \n",
    "    def __mul__(self, other):\n",
    "        return Vector3(self.x * other, self.y * other, self.z * other)\n",
    "    \n",
    "    def __truediv__(self, other):\n",
    "        return Vector3(self.x / other, self.y / other, self.z / other)\n",
    "\n",
    "    def __repr__(self):\n",
    "         return f\"Vector3({self.x}, {self.y}, {self.z})\""
   ]
  },
  {
   "cell_type": "code",
   "execution_count": 76,
   "metadata": {},
   "outputs": [],
   "source": [
    "# a workpiece is cylinder defined by its length and radius\n",
    "class Workpiece:\n",
    "    def __init__(self, length: int, radius: float):\n",
    "        self.length = length\n",
    "        self.radius = radius\n",
    "        self.array = []\n",
    "        for i in range(0, length):\n",
    "            self.array.append(self.radius)\n",
    "    \n",
    "    # sets the correct dimensions of the plot and plots the workpiece\n",
    "    def visualize(self):\n",
    "        \"\"\"\n",
    "        x = np.array([i for i in range(self.length)])\n",
    "        b_spline_coeff = make_interp_spline(x, self.array)\n",
    "        x_final = np.linspace(x.min(), x.max(), 500)\n",
    "        y_final = b_spline_coeff(x_final)\n",
    "        plt.plot(x_final, y_final)\n",
    "        \"\"\"\n",
    "        plt.plot(self.array, color='orange')\n",
    "        plt.xlim(0, self.length)\n",
    "        plt.ylim(0, self.radius * 2)\n",
    "\n",
    "    # point is the index of the slice, depth the y-coordinate of the cut\n",
    "    def cut(self, point: int, depth: float):\n",
    "        self.array[point] = depth\n",
    "\n",
    "    # cut to the same depth at multiple points\n",
    "    # points: (from: inclusive, to: exclusive)\n",
    "    def cut_multiple(self, points: list[int, int], depth: float):\n",
    "        for point in range(points[0], points[1] - 1):\n",
    "            self.cut(point, depth)"
   ]
  },
  {
   "cell_type": "code",
   "execution_count": 182,
   "metadata": {},
   "outputs": [],
   "source": [
    "# position is left top corner\n",
    "# form is a list of tuples with float (depth) and int (how often) (index is x-coordinate, value is cut-depth)\n",
    "# wp_lenght is the length of the workpiece, needed for correct plotting\n",
    "class Tool:\n",
    "    def __init__(self, position: Vector2, raw_form: list[tuple()], wp_lenght: int, interpolate: bool = True):\n",
    "        self.position = position\n",
    "        self.raw_form = self.set_raw_form(raw_form, interpolate)\n",
    "        self.wp_lenght = wp_lenght\n",
    "        self.form = self.calculate_form()\n",
    "\n",
    "\n",
    "    def set_raw_form(self, raw_form, interpolate):\n",
    "        local_raw_form = []\n",
    "        modified_raw_form = []\n",
    "        modified_raw_form.append([0, 0])\n",
    "        \n",
    "        # loop over every tuple in the list\n",
    "        for i in range(len(raw_form)):\n",
    "            for element in raw_form:\n",
    "                modified_raw_form[-1][1] = int(element[1] / 1)\n",
    "                modified_raw_form.append([element[0], int(element[1] / 2)])\n",
    "\n",
    "            # loop over every point in between the two given points\n",
    "            for j in range(modified_raw_form[i][1]):\n",
    "                if interpolate:\n",
    "                    try:\n",
    "                        # interpolate between the two points with the given offsets\n",
    "                        x0 = modified_raw_form[i][0]\n",
    "                        x1 = modified_raw_form[i + 1][0]\n",
    "                        step = (x1 - x0) / (modified_raw_form[i][1] + 1)  # Include both endpoints\n",
    "                        local_raw_form.append(x0 + step * j)\n",
    "                    except IndexError:\n",
    "                        print(\"error\")\n",
    "                else:\n",
    "                    # just add the current point\n",
    "                    local_raw_form.append(raw_form[i][0])\n",
    "        \n",
    "        return local_raw_form\n",
    "\n",
    "\n",
    "\n",
    "\n",
    "    # moves the tool by the given vector and recalculates the form\n",
    "    def move(self, movement: Vector2):\n",
    "        self.position += movement\n",
    "        self.form = self.calculate_form()\n",
    "\n",
    "    # after this function plt.show() must be called seperately (in this way so we can plot a workpiece and a tool in the same plot)\n",
    "    def visualize(self, wp):\n",
    "        \"\"\"\n",
    "        x = np.array([i for i in range(self.wp_lenght)])\n",
    "        b_spline_coeff = make_interp_spline(x, self.calculate_form())\n",
    "        x_final = np.linspace(x.min(), x.max(), 500)\n",
    "        y_final = b_spline_coeff(x_final)\n",
    "        \"\"\"\n",
    "        plt.plot(self.calculate_form(), color='blue')\n",
    "        plt.xlim(0, self.wp_lenght)\n",
    "        plt.ylim(0, wp.radius * 2)\n",
    "    \n",
    "    # must be called after every change to the positition\n",
    "    def calculate_form(self):\n",
    "        local_form = self.raw_form.copy()\n",
    "        for i in range(0, self.position.x): local_form.insert(0, 0)\n",
    "        for i, _ in enumerate(local_form): local_form[i] = self.position.y - local_form[i]\n",
    "        while len(local_form) < self.wp_lenght: local_form.append(self.position.y)\n",
    "        \n",
    "        return local_form.copy()\n",
    "    \n",
    "    # cut the workpiece if the tool is below the surface\n",
    "    def cut(self, wp: Workpiece):\n",
    "        for i, _ in enumerate(wp.array):\n",
    "            if self.form[i] < wp.array[i]: wp.cut(i, self.form[i])"
   ]
  },
  {
   "cell_type": "code",
<<<<<<< HEAD
   "execution_count": 185,
   "metadata": {},
   "outputs": [
    {
     "data": {
      "image/png": "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",
      "text/plain": [
       "<Figure size 640x480 with 1 Axes>"
      ]
     },
     "metadata": {},
     "output_type": "display_data"
    }
   ],
=======
   "execution_count": null,
   "metadata": {},
   "outputs": [],
>>>>>>> 0abd39f0ee78e3777191c31dfa61bd17616fa7dc
   "source": [
    "# intialize workpiece with length 50, (this is the number of slices) and radius 5\n",
    "wp = Workpiece(10000, 5)\n",
    "\n",
    "# intialize the tool at the given position and set the shape\n",
    "tl = Tool(Vector2(400, 8), [(1, 500), (2, 500), (4, 500), (6, 1000), (4, 500), (2, 500), (1, 500), (0, 2000), (4, 1000), (1, 1000)], wp.length)\n",
    "\n",
    "tl.visualize(wp)\n",
    "# cut out the parts of the workpiece that are in contact with the tool\n",
    "tl.cut(wp)\n",
    "\n",
    "# plot the workpiece and the tool and show the plot\n",
    "#tl.visualize()\n",
    "wp.visualize()\n",
    "plt.show()"
   ]
  },
  {
   "cell_type": "code",
   "execution_count": 186,
   "metadata": {},
   "outputs": [
    {
     "data": {
      "image/png": "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",
      "text/plain": [
       "<Figure size 640x480 with 1 Axes>"
      ]
     },
     "metadata": {},
     "output_type": "display_data"
    }
   ],
   "source": [
    "# intialize workpiece with length 50, (this is the number of slices) and radius 5\n",
    "wp = Workpiece(10000, 5)\n",
    "\n",
    "# intialize the tool at the given position and set the shape\n",
    "tl = Tool(Vector2(400, 8), [(1, 500), (2, 500), (4, 500), (6, 500), (4, 500), (2, 500), (1, 500), (0, 2000), (4, 1000), (1, 1000)], wp.length, False)\n",
    "\n",
    "tl.visualize(wp)\n",
    "# cut out the parts of the workpiece that are in contact with the tool\n",
    "tl.cut(wp)\n",
    "\n",
    "# plot the workpiece and the tool and show the plot\n",
    "#tl.visualize()\n",
    "wp.visualize()\n",
    "plt.show()"
   ]
  }
 ],
 "metadata": {
  "kernelspec": {
   "display_name": "Python 3",
   "language": "python",
   "name": "python3"
  },
  "language_info": {
   "codemirror_mode": {
    "name": "ipython",
    "version": 3
   },
   "file_extension": ".py",
   "mimetype": "text/x-python",
   "name": "python",
   "nbconvert_exporter": "python",
   "pygments_lexer": "ipython3",
   "version": "3.11.3"
  },
  "orig_nbformat": 4,
  "vscode": {
   "interpreter": {
    "hash": "ead1b95f633dc9c51826328e1846203f51a198c6fb5f2884a80417ba131d4e82"
   }
  }
 },
 "nbformat": 4,
 "nbformat_minor": 2
}
