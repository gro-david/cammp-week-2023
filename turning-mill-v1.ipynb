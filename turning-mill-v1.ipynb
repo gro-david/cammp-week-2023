{
 "cells": [
  {
   "cell_type": "code",
   "execution_count": 1,
   "metadata": {},
   "outputs": [],
   "source": [
    "from matplotlib import pyplot as plt\n",
    "import numpy as np\n",
    "import matplotlib.colors as colors\n",
    "\n",
    "import timeit\n",
    "import time"
   ]
  },
  {
   "cell_type": "code",
   "execution_count": 2,
   "metadata": {},
   "outputs": [],
   "source": [
    "# 2/3D vec,tor classes with basic operations\n",
    "class Vector2:\n",
    "    def __init__(self, x, y):\n",
    "        self.x = x\n",
    "        self.y = y\n",
    "\n",
    "    def __add__(self, other):\n",
    "        return Vector2(self.x + other.x, self.y + other.y)\n",
    "    \n",
    "    def __sub__(self, other):\n",
    "        return Vector2(self.x - other.x, self.y - other.y)\n",
    "    \n",
    "    def __mul__(self, other: float):\n",
    "        return Vector2(self.x * other, self.y * other)\n",
    "    \n",
    "    def __truediv__(self, other: float):\n",
    "        return Vector2(self.x / other, self.y / other)\n",
    "class Vector3:\n",
    "    def __init__(self, x, y, z):\n",
    "        self.x = x\n",
    "        self.y = y\n",
    "        self.z = z\n",
    "\n",
    "    def __add__(self, other):\n",
    "        return Vector3(self.x + other.x, self.y + other.y, self.z + other.z)\n",
    "    \n",
    "    def __sub__(self, other):\n",
    "        return Vector3(self.x - other.x, self.y - other.y, self.z - other.z)\n",
    "    \n",
    "    def __mul__(self, other):\n",
    "        return Vector3(self.x * other, self.y * other, self.z * other)\n",
    "    \n",
    "    def __truediv__(self, other):\n",
    "        return Vector3(self.x / other, self.y / other, self.z / other)\n",
    "\n",
    "    def __repr__(self):\n",
    "         return f\"Vector3({self.x}, {self.y}, {self.z})\""
   ]
  },
  {
   "cell_type": "code",
   "execution_count": 3,
   "metadata": {},
   "outputs": [],
   "source": [
    "# a workpiece is cylinder defined by its length and radius\n",
    "class Workpiece:\n",
    "    def __init__(self, length: int, radius: float):\n",
    "        self.length = length\n",
    "        self.radius = radius\n",
    "        self.array = []\n",
    "        for i in range(0, length):\n",
    "            self.array.append(self.radius)\n",
    "    \n",
    "    # sets the correct dimensions of the plot and plots the workpiece\n",
    "    def visualize(self):\n",
    "        \"\"\"\n",
    "        x = np.array([i for i in range(self.length)])\n",
    "        b_spline_coeff = make_interp_spline(x, self.array)\n",
    "        x_final = np.linspace(x.min(), x.max(), 500)\n",
    "        y_final = b_spline_coeff(x_final)\n",
    "        plt.plot(x_final, y_final)\n",
    "        \"\"\"\n",
    "        plt.plot(self.array, color='orange')\n",
    "        plt.xlim(0, self.length)\n",
    "        plt.ylim(0, self.radius * 2)\n",
    "\n",
    "    # point is the index of the slice, depth the y-coordinate of the cut\n",
    "    def cut(self, point: int, depth: float):\n",
    "        self.array[point] = depth\n",
    "\n",
    "    # cut to the same depth at multiple points\n",
    "    # points: (from: inclusive, to: exclusive)\n",
    "    def cut_multiple(self, points: list[int, int], depth: float):\n",
    "        for point in range(points[0], points[1] - 1):\n",
    "            self.cut(point, depth)"
   ]
  },
  {
   "cell_type": "code",
   "execution_count": 4,
   "metadata": {},
   "outputs": [],
   "source": [
    "# position is left top corner\n",
    "# form is a list of tuples with float (depth) and int (how often) (index is x-coordinate, value is cut-depth)\n",
    "# wp_lenght is the length of the workpiece, needed for correct plotting\n",
    "class Tool:\n",
    "    def __init__(self, position: Vector2, raw_form: list[tuple()], wp_lenght: int, interpolate: bool = True):\n",
    "        self.position = position\n",
    "        self.raw_form = self.set_raw_form(raw_form, interpolate)\n",
    "        self.wp_lenght = wp_lenght\n",
    "        self.form = self.calculate_form()\n",
    "\n",
    "\n",
    "    def set_raw_form(self, raw_form, interpolate):\n",
    "        local_raw_form = []\n",
    "        modified_raw_form = []\n",
    "        modified_raw_form.append([0, 0])\n",
    "        \n",
    "        # loop over every tuple in the list\n",
    "        for i in range(len(raw_form)):\n",
    "            for element in raw_form:\n",
    "                modified_raw_form[-1][1] = int(element[1] / 1)\n",
    "                modified_raw_form.append([element[0], int(element[1] / 2)])\n",
    "\n",
    "            # loop over every point in between the two given points\n",
    "            for j in range(modified_raw_form[i][1]):\n",
    "                if interpolate:\n",
    "                    try:\n",
    "                        # interpolate between the two points with the given offsets\n",
    "                        x0 = modified_raw_form[i][0]\n",
    "                        x1 = modified_raw_form[i + 1][0]\n",
    "                        step = (x1 - x0) / (modified_raw_form[i][1] + 1)  # Include both endpoints\n",
    "                        local_raw_form.append(x0 + step * j)\n",
    "                    except IndexError:\n",
    "                        print(\"error\")\n",
    "                else:\n",
    "                    # just add the current point\n",
    "                    local_raw_form.append(raw_form[i][0])\n",
    "        \n",
    "        return local_raw_form\n",
    "\n",
    "\n",
    "\n",
    "\n",
    "    # moves the tool by the given vector and recalculates the form\n",
    "    def move(self, movement: Vector2):\n",
    "        self.position += movement\n",
    "        self.form = self.calculate_form()\n",
    "\n",
    "    # after this function plt.show() must be called seperately (in this way so we can plot a workpiece and a tool in the same plot)\n",
    "    def visualize(self, wp):\n",
    "        \"\"\"\n",
    "        x = np.array([i for i in range(self.wp_lenght)])\n",
    "        b_spline_coeff = make_interp_spline(x, self.calculate_form())\n",
    "        x_final = np.linspace(x.min(), x.max(), 500)\n",
    "        y_final = b_spline_coeff(x_final)\n",
    "        \"\"\"\n",
    "        plt.plot(self.calculate_form(), color='blue')\n",
    "        plt.xlim(0, self.wp_lenght)\n",
    "        plt.ylim(0, wp.radius * 2)\n",
    "    \n",
    "    # must be called after every change to the positition\n",
    "    def calculate_form(self):\n",
    "        local_form = self.raw_form.copy()\n",
    "        for i in range(0, self.position.x): local_form.insert(0, 0)\n",
    "        for i, _ in enumerate(local_form): local_form[i] = self.position.y - local_form[i]\n",
    "        while len(local_form) < self.wp_lenght: local_form.append(self.position.y)\n",
    "        \n",
    "        return local_form.copy()\n",
    "    \n",
    "    # cut the workpiece if the tool is below the surface\n",
    "    def cut(self, wp: Workpiece):\n",
    "        for i, _ in enumerate(wp.array):\n",
    "            if self.form[i] < wp.array[i]: wp.cut(i, self.form[i])"
   ]
  },
  {
   "cell_type": "code",
   "execution_count": 5,
   "metadata": {},
   "outputs": [
    {
     "name": "stdout",
     "output_type": "stream",
     "text": [
      "Takes running time: 0.3222928309999986\n"
     ]
    },
    {
     "data": {
      "image/png": "[encoded data removed]",
      "text/plain": [
       "<Figure size 640x480 with 1 Axes>"
      ]
     },
     "metadata": {},
     "output_type": "display_data"
    }
   ],
   "source": [
    "# intialize workpiece with length 50, (this is the number of slices) and radius 5\n",
    "wp = Workpiece(1000000, 5)\n",
    "\n",
    "# intialize the tool at the given position and set the shape\n",
    "tl = Tool(Vector2(400, 8), [(1, 500), (2, 500), (4, 2000), (6, 500), (4, 500), (2, 500), (1, 500), (0, 2000), (4, 1000), (1, 1000)], wp.length)\n",
    "\n",
    "tl.visualize(wp)\n",
    "start_time = timeit.default_timer()\n",
    "# cut out the parts of the workpiece that are in contact with the tool\n",
    "tl.cut(wp)\n",
    "print(f'Takes running time: {timeit.default_timer() - start_time}')\n",
    "\n",
    "# plot the workpiece and the tool and show the plot\n",
    "#tl.visualize()\n",
    "wp.visualize()\n",
    "plt.show()"
   ]
  },
  {
   "cell_type": "code",
   "execution_count": 6,
   "metadata": {},
   "outputs": [
    {
     "name": "stdout",
     "output_type": "stream",
     "text": [
      "Takes running time: 0.434334664000005\n"
     ]
    },
    {
     "data": {
      "image/png": "[encoded data removed]",
      "text/plain": [
       "<Figure size 640x480 with 1 Axes>"
      ]
     },
     "metadata": {},
     "output_type": "display_data"
    }
   ],
   "source": [
    "# intialize workpiece with length 50, (this is the number of slices) and radius 5\n",
    "wp = Workpiece(1000000, 5)\n",
    "\n",
    "# intialize the tool at the given position and set the shape\n",
    "tl = Tool(Vector2(400, 8), [(1, 500), (2, 500), (4, 2000), (6, 500), (4, 500), (2, 500), (1, 500), (0, 2000), (4, 1000), (1, 1000)], wp.length, False)\n",
    "\n",
    "tl.visualize(wp)\n",
    "start_time = timeit.default_timer()\n",
    "# cut out the parts of the workpiece that are in contact with the tool\n",
    "tl.cut(wp)\n",
    "print(f'Takes running time: {timeit.default_timer() - start_time}')\n",
    "# plot the workpiece and the tool and show the plot\n",
    "#tl.visualize()\n",
    "wp.visualize()\n",
    "plt.show()"
   ]
  }
 ],
 "metadata": {
  "kernelspec": {
   "display_name": "Python 3",
   "language": "python",
   "name": "python3"
  },
  "language_info": {
   "codemirror_mode": {
    "name": "ipython",
    "version": 3
   },
   "file_extension": ".py",
   "mimetype": "text/x-python",
   "name": "python",
   "nbconvert_exporter": "python",
   "pygments_lexer": "ipython3",
   "version": "3.10.6"
  },
  "orig_nbformat": 4,
  "vscode": {
   "interpreter": {
    "hash": "ead1b95f633dc9c51826328e1846203f51a198c6fb5f2884a80417ba131d4e82"
   }
  }
 },
 "nbformat": 4,
 "nbformat_minor": 2
}
