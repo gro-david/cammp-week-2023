{
 "cells": [
  {
   "cell_type": "code",
   "execution_count": 32,
   "metadata": {},
   "outputs": [],
   "source": [
    "from matplotlib import pyplot as plt\n",
    "import numpy as np"
   ]
  },
  {
   "cell_type": "code",
   "execution_count": 33,
   "metadata": {},
   "outputs": [],
   "source": [
    "# 2/3D vec,tor classes with basic operations\n",
    "class Vector2:\n",
    "    def __init__(self, x, y):\n",
    "        self.x = x\n",
    "        self.y = y\n",
    "\n",
    "    def __add__(self, other):\n",
    "        return Vector2(self.x + other.x, self.y + other.y)\n",
    "    \n",
    "    def __sub__(self, other):\n",
    "        return Vector2(self.x - other.x, self.y - other.y)\n",
    "    \n",
    "    def __mul__(self, other):\n",
    "        return Vector2(self.x * other, self.y * other)\n",
    "    \n",
    "    def __truediv__(self, other):\n",
    "        return Vector2(self.x / other, self.y / other)\n",
    "class Vector3:\n",
    "    def __init__(self, x, y, z):\n",
    "        self.x = x\n",
    "        self.y = y\n",
    "        self.z = z\n",
    "\n",
    "    def __add__(self, other):\n",
    "        return Vector3(self.x + other.x, self.y + other.y, self.z + other.z)\n",
    "    \n",
    "    def __sub__(self, other):\n",
    "        return Vector3(self.x - other.x, self.y - other.y, self.z - other.z)\n",
    "    \n",
    "    def __mul__(self, other):\n",
    "        return Vector3(self.x * other, self.y * other, self.z * other)\n",
    "    \n",
    "    def __truediv__(self, other):\n",
    "        return Vector3(self.x / other, self.y / other, self.z / other)\n",
    "\n",
    "    def __repr__(self):\n",
    "         return f\"Vector3({self.x}, {self.y}, {self.z})\""
   ]
  },
  {
   "cell_type": "code",
   "execution_count": 34,
   "metadata": {},
   "outputs": [],
   "source": [
    "# a workpiece is cylinder defined by its length and radius\n",
    "class Workpiece:\n",
    "    def __init__(self, length: int, radius: float):\n",
    "        self.length = length\n",
    "        self.radius = radius\n",
    "        self.array = []\n",
    "        for i in range(0, length):\n",
    "            self.array.append(self.radius)\n",
    "    \n",
    "    # sets the correct dimensions of the plot and plots the workpiece\n",
    "    def visualize(self):\n",
    "        plt.plot(self.array)\n",
    "        plt.xlim(0, self.length)\n",
    "        plt.ylim(0, self.radius * 2)\n",
    "\n",
    "    # point is the index of the slice, depth the y-coordinate of the cut\n",
    "    def cut(self, point: int, depth: float):\n",
    "        self.array[point] = depth\n",
    "\n",
    "    # cut to the same depth at multiple points\n",
    "    # points: (from: inclusive, to: exclusive)\n",
    "    def cut_multiple(self, points: list[int, int], depth: float):\n",
    "        for point in range(points[0], points[1] - 1):\n",
    "            self.cut(point, depth)"
   ]
  },
  {
   "cell_type": "code",
   "execution_count": 35,
   "metadata": {},
   "outputs": [],
   "source": [
    "# position is left top corner\n",
    "# form is a list of floats (index is x-coordinate, value is cut-depth)\n",
    "# wp_lenght is the length of the workpiece, needed for correct plotting\n",
    "class Tool:\n",
    "    def __init__(self, position: Vector2, raw_form: list[float], wp_lenght: int):\n",
    "        self.position = position\n",
    "        self.raw_form = raw_form\n",
    "        self.wp_lenght = wp_lenght\n",
    "        self.form = self.calculate_form()\n",
    "\n",
    "    # moves the tool by the given vector and recalculates the form\n",
    "    def move(self, movement: Vector2):\n",
    "        self.position += movement\n",
    "        self.form = self.calculate_form()\n",
    "\n",
    "    # after this function plt.show() must be called seperately (in this way so we can plot a workpiece and a tool in the same plot)\n",
    "    def visualize(self):\n",
    "        plt.plot(self.calculate_form())\n",
    "    \n",
    "    # must be called after every change to the positition\n",
    "    def calculate_form(self):\n",
    "        local_form = self.raw_form.copy()\n",
    "        for i in range(0, self.position.x): local_form.insert(0, 0)\n",
    "        for i, _ in enumerate(local_form): local_form[i] = self.position.y - local_form[i]\n",
    "        while len(local_form) < self.wp_lenght: local_form.append(self.position.y)\n",
    "        return local_form.copy()\n",
    "    \n",
    "    # cut the workpiece if the tool is below the surface\n",
    "    def cut(self, wp: Workpiece):\n",
    "        for i, _ in enumerate(wp.array):\n",
    "            if self.form[i] < wp.array[i]: wp.cut(i, self.form[i])"
   ]
  },
  {
   "cell_type": "code",
   "execution_count": null,
   "metadata": {},
   "outputs": [],
   "source": [
    "# intialize workpiece with length 50 and radius 5\n",
    "wp = Workpiece(50, 5)\n",
    "\n",
    "# intialize the tool at the given position and set the shape\n",
    "tl = Tool(Vector2(15, 6), [1, 4, 6, 4, 1, 0, 0, 0, 1, 4, 6, 4, 1], wp.length)\n",
    "\n",
    "# cut out the parts of the workpiece that are in contact with the tool\n",
    "tl.cut(wp)\n",
    "\n",
    "# plot the workpiece and the tool and show the plot\n",
    "tl.visualize()\n",
    "wp.visualize()\n",
    "plt.show()"
   ]
  }
 ],
 "metadata": {
  "kernelspec": {
   "display_name": "Python 3",
   "language": "python",
   "name": "python3"
  },
  "language_info": {
   "codemirror_mode": {
    "name": "ipython",
    "version": 3
   },
   "file_extension": ".py",
   "mimetype": "text/x-python",
   "name": "python",
   "nbconvert_exporter": "python",
   "pygments_lexer": "ipython3",
   "version": "3.11.3"
  },
  "orig_nbformat": 4,
  "vscode": {
   "interpreter": {
    "hash": "ead1b95f633dc9c51826328e1846203f51a198c6fb5f2884a80417ba131d4e82"
   }
  }
 },
 "nbformat": 4,
 "nbformat_minor": 2
}
