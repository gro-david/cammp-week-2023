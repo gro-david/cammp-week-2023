{
 "cells": [
  {
   "cell_type": "code",
   "execution_count": 8,
   "metadata": {},
   "outputs": [],
   "source": [
    "from matplotlib import pyplot as plt\n",
    "import numpy as np"
   ]
  },
  {
   "cell_type": "code",
   "execution_count": 53,
   "metadata": {},
   "outputs": [
    {
     "data": {
      "image/png": "[encoded data removed]",
      "text/plain": [
       "<Figure size 640x480 with 1 Axes>"
      ]
     },
     "metadata": {},
     "output_type": "display_data"
    }
   ],
   "source": [
    "class Vector2:\n",
    "    def __init__(self, x, y):\n",
    "        self.x = x\n",
    "        self.y = y\n",
    "\n",
    "class Vector3:\n",
    "    def __init__(self, x, y, z):\n",
    "        self.x = x\n",
    "        self.y = y\n",
    "        self.z = z\n",
    "\n",
    "    def __add__(self, other):\n",
    "        return Vector3(self.x + other.x, self.y + other.y, self.z + other.z)\n",
    "    \n",
    "    def __sub__(self, other):\n",
    "        return Vector3(self.x - other.x, self.y - other.y, self.z - other.z)\n",
    "    \n",
    "    def __mul__(self, other):\n",
    "        return Vector3(self.x * other, self.y * other, self.z * other)\n",
    "    \n",
    "    def __truediv__(self, other):\n",
    "        return Vector3(self.x / other, self.y / other, self.z / other)\n",
    "\n",
    "    def __repr__(self):\n",
    "         return f\"Vector3({self.x}, {self.y}, {self.z})\"\n",
    "\n",
    "# a workpiece is cylinder defined by its length and radius\n",
    "class Workpiece:\n",
    "    def __init__(self, length: int, radius: float):\n",
    "        self.length = length\n",
    "        self.radius = radius\n",
    "        self.array = []\n",
    "        for i in range(0, length):\n",
    "            self.array.append(self.radius)\n",
    "    \n",
    "    def visualize(self):\n",
    "        plt.plot(self.array)\n",
    "        plt.xlim(0, self.length)\n",
    "        plt.ylim(0, self.radius * 2)\n",
    "\n",
    "# point is the index of the slice, depth the y-coordinate of the cut\n",
    "    def cut(self, point: int, depth: float):\n",
    "        self.array[point] = depth\n",
    "\n",
    "# cut to the same depth at multiple points\n",
    "# points: (from: inclusive, to: exclusive)\n",
    "    def cut_multiple(self, points: list[int, int], depth: float):\n",
    "        for point in range(points[0], points[1] - 1):\n",
    "            self.cut(point, depth)\n",
    "\n",
    "# position is left top corner\n",
    "# form is a list of floats (index is x-coordinate, value is cut-depth)\n",
    "class Tool:\n",
    "    def __init__(self, position: Vector2, form: list[float]):\n",
    "        self.position = position\n",
    "        self.raw_form = form\n",
    "\n",
    "    def move(self, movement: Vector2):\n",
    "        self.position += movement\n",
    "\n",
    "    def visualize(self):\n",
    "        form = self.raw_form\n",
    "        for i in range(0, self.position.x): form.insert(0, 0)\n",
    "        for i, _ in enumerate(form): form[i] = self.position.y - form[i]\n",
    "        plt.plot(form)\n",
    "\n",
    "wp = Workpiece(50, 5)\n",
    "wp.cut_multiple((2, 4), 3)\n",
    "\n",
    "tl = Tool(Vector2(0, 9), [1, 3, 6, 3, 1])\n",
    "\n",
    "tl.visualize()\n",
    "wp.visualize()\n",
    "plt.show()"
   ]
  }
 ],
 "metadata": {
  "kernelspec": {
   "display_name": "Python 3",
   "language": "python",
   "name": "python3"
  },
  "language_info": {
   "codemirror_mode": {
    "name": "ipython",
    "version": 3
   },
   "file_extension": ".py",
   "mimetype": "text/x-python",
   "name": "python",
   "nbconvert_exporter": "python",
   "pygments_lexer": "ipython3",
   "version": "3.11.3"
  },
  "orig_nbformat": 4,
  "vscode": {
   "interpreter": {
    "hash": "ead1b95f633dc9c51826328e1846203f51a198c6fb5f2884a80417ba131d4e82"
   }
  }
 },
 "nbformat": 4,
 "nbformat_minor": 2
}
